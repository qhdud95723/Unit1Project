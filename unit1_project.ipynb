{
 "cells": [
  {
   "cell_type": "markdown",
   "metadata": {},
   "source": [
    "<img src=\"http://imgur.com/1ZcRyrc.png\" style=\"float: left; margin: 20px; height: 55px\">\n",
    "\n",
    "# Project 1: Python Coding Exercises\n",
    "\n",
    "_Authors: Joseph Nelson (DC) _\n",
    "\n",
    "---"
   ]
  },
  {
   "cell_type": "markdown",
   "metadata": {},
   "source": [
    "The following code challenges are drawn from common exercises used in technical interviews.\n",
    "\n",
    "Please note that there may be several ways to approach each challenge. If you get stuck, try mapping out your approach in pseudocode first. Finally, while solutions to problems like these may be found online, remember that if you copy/paste code that you can't explain, you'll be missing out on the point of the project. The only way to truly learn a new skill is through practice, trial, and error - we can only help you improve by understanding where you are having trouble."
   ]
  },
  {
   "cell_type": "markdown",
   "metadata": {},
   "source": [
    "### Challenge 1: Largest Palindrome\n",
    "A palindromic number reads the same both ways. For example, 1234321 is a palindrome. The largest palindrome made from the product of two two-digit numbers is 9009 = 91 × 99. Find the largest palindrome made from the product of two three-digit numbers. Afterward, write a brief explanation walking through your code's logic in markdown."
   ]
  },
  {
   "cell_type": "code",
   "execution_count": 92,
   "metadata": {},
   "outputs": [
    {
     "name": "stdout",
     "output_type": "stream",
     "text": [
      "906609\n"
     ]
    }
   ],
   "source": [
    "largest_palindrome = 0\n",
    "\n",
    "def palindrome(number):\n",
    "    string_number = str(number)\n",
    "    if string_number == string_number[::-1]:\n",
    "        return 1\n",
    "    else:\n",
    "        return 0\n",
    "\n",
    "for i in range(100,1000):\n",
    "    for j in range(100,1000):\n",
    "        if palindrome(i*j) == 1 and (i*j) > largest_palindrome:\n",
    "            largest_palindrome = (i*j)\n",
    "            \n",
    "print(largest_palindrome)"
   ]
  },
  {
   "cell_type": "markdown",
   "metadata": {},
   "source": [
    "My solution to Challenge 1 is divided into two sections. The first part defines a function that can determine if a function is a palindrome. The second part runs a For loop of the numbers between 100 and 1,000, which represent the set of all three-digit numbers, to test out all products and seeing which one produces the largest palindrome. \n",
    "\n",
    "In the first part, I test a number for whether it is a palindrome or not. I do so by utilizing string indexing. I convert the number to a string to make this work, then flip it using [::-1]. If the input number is equal to the reverse \"mirror image\" of the number, then we know it's a palindrome and we indicate it by returning 1. \n",
    "\n",
    "In the second part, I generate two For loops - one for each number to multiply together. Within the For loops, I test if the product of the two numbers is a palindrome and that the product is larger than \"largest_palindrome\" which is intialized to 0. As the For loop progresses, largest_palindrome variable will set equal to the latest palindrome product. When the loop is completed, we know we have the largest palindrome made from the product of two three-digit numbers."
   ]
  },
  {
   "cell_type": "markdown",
   "metadata": {},
   "source": [
    "\n",
    "### Challenge 2: Summation of Primes\n",
    "The sum of the primes below 10 is 2 + 3 + 5 + 7 = 17. Find the sum of all the primes below 2,000. Afterward, write a brief explanation walking through your code's logic in markdown."
   ]
  },
  {
   "cell_type": "code",
   "execution_count": 31,
   "metadata": {},
   "outputs": [
    {
     "name": "stdout",
     "output_type": "stream",
     "text": [
      "277050\n"
     ]
    }
   ],
   "source": [
    "def is_prime(number):\n",
    "    num_factors = 0\n",
    "    for factor in range(1, number+1):\n",
    "        if number % factor == 0:\n",
    "            num_factors += 1\n",
    "    if num_factors == 2:\n",
    "        return True\n",
    "    else:\n",
    "        return False\n",
    "prime_sum = 0\n",
    "for number in range(2, 2000):\n",
    "    if is_prime(number):\n",
    "        prime_sum += number\n",
    "print(prime_sum)"
   ]
  },
  {
   "cell_type": "markdown",
   "metadata": {},
   "source": [
    "First, I define the function \"is_prime\" of a number, which I will use later to make sure that I am taking the sum of only prime numbers. Prime numbers are divisible by 1 and the prime number itself. In other words, prime numbers have two factors. Within the function \"is_prime\", I initially set num_factors equal to zero, then I use a for loop to identify which numbers have two factors or are prime. For each number which only has two factors that yield remainder of 0, I add 1 to the number of factors (num_factors). At the completion of the loop through the range 1 and up through the number itself, if it turns out that num_factors is 2, then we know the number is a prime number.\n",
    "\n",
    "The second part involves using the is_prime function to find prime numbers, then to sum up all the prime numbers. We set prime_sum equal to 0 at first, then for numbers in the range 2 and 1,999 (since 1 is not a prime number and we are looking for numbers below 2000), we put those numbers through the is_prime function. The for loop allows all of those numbers to be first tested if they are a prime number, then if True, they are added to the prime_sum. \n",
    "\n",
    "At the completion of the for loop, prime_sum will yield the sum of all prime numbers below 2000. "
   ]
  },
  {
   "cell_type": "markdown",
   "metadata": {},
   "source": [
    "### Challenge 3: Multiples of 3 and 5\n",
    "If we list all of the natural numbers below 10 that are multiples of 3 or 5, we get 3, 5, 6, and 9. The sum of these multiples is 23. Find the sum of all the multiples of 3 or 5 below 1,000. Afterward, write a brief explanation walking through your code's logic in markdown."
   ]
  },
  {
   "cell_type": "code",
   "execution_count": 36,
   "metadata": {},
   "outputs": [
    {
     "name": "stdout",
     "output_type": "stream",
     "text": [
      "233168\n"
     ]
    }
   ],
   "source": [
    "multiples_sum = 0\n",
    "for number in range(1, 1000):\n",
    "    if number % 5 == 0 or number % 3 == 0:\n",
    "        multiples_sum += number\n",
    "print(multiples_sum)"
   ]
  },
  {
   "cell_type": "markdown",
   "metadata": {},
   "source": [
    "I first start with \"multiples_sum = 0\", intending to add in any multiples of 3 and 5 below 1,000. I use a FOR loop to set the search of multiples of 3 or 5 below 1,000 in motion. The range from 1 to 1,000 makes sure that all the natural numbers will be below 1,000. The IF statement is directly based on our desired definition: the natural number must either be a multiple of 5 or 3. I use \"or\" to define that; any number within the range that is divisible by 5 or 3 will be added to the sum. "
   ]
  },
  {
   "cell_type": "markdown",
   "metadata": {},
   "source": [
    "### Challenge 4: String Compressor\n",
    "Implement a method to perform basic string compression using the counts of repeated characters. (This is called run-length encoding.) For example, the string \"aabcccccaaa\" would become a2b1c5a3. If the “compressed” string would not become smaller than the original string, your method should return the original string. You can assume the string has only uppercase and lowercase letters (a–z). Specify whether your solution is case sensitive or case insensitive and what you would need to change to make it the other. Afterward, write a brief explanation walking through your code's logic in markdown."
   ]
  },
  {
   "cell_type": "code",
   "execution_count": 84,
   "metadata": {},
   "outputs": [],
   "source": [
    "def string_compression(input_str):\n",
    "    comp_str = \"\"\n",
    "    count = 0\n",
    "    previous = input_str[0]\n",
    "    \n",
    "    for letter in input_str:\n",
    "        if letter == previous:\n",
    "            count += 1\n",
    "        else:\n",
    "            comp_str += previous + str(count)\n",
    "            previous = letter\n",
    "            count = 1\n",
    "    comp_str += previous + str(count)\n",
    "\n",
    "    if len(comp_str) >= len(input_str):\n",
    "        return input_str\n",
    "    else:\n",
    "        return comp_str"
   ]
  },
  {
   "cell_type": "markdown",
   "metadata": {},
   "source": [
    "My solution is case sensitive. In order to make it case insensitive, I would have to add either \".upper()\" or \".lower()\" at the end of each \"letter\" andd \"previous\" in the IF statements. That eliminates the occurence of interpreting an uppercase case letter as unique from the lower case version of that letter.\n",
    "\n",
    "The count is initialized at zero and the \"previous\" is initialized to the first letter of the string. The For loop cycle through every letter in the string input. Within each letter in the string, I use an IF statement to figure out if it's occurring consecutively or not by testing if the letter is equal to the previous letter. If true, I add 1 to the count. So, if the first two letters of the string are \"aa\", it will take two loops to get a count of 2 at the end. Once the recurring letters are over, the function skips down to Else and concatenates the letter and the number of times it occurs. In addition, the \"previous\" needs to be the current one and following that, the count is reset to 1. Each new previous and its count of recurrence is concatenated. \n",
    "\n",
    "The loop continues until the end of the string is reached. \n",
    "\n",
    "But, in order to make sure that the compressed string is returned only if it is shorter than the original function, I set another IF function that compares the length of the compressed string and the input string. "
   ]
  },
  {
   "cell_type": "markdown",
   "metadata": {},
   "source": [
    "### Challenge 5: FizzBuzz\n",
    "\n",
    "Write a program that prints all of the numbers from 1 to 100. For multiples of 3, instead of the number, print \"Fizz;\" for multiples of 5, print \"Buzz.\" For numbers that are multiples of both 3 and 5, print \"FizzBuzz.\" Afterward, write a brief explanation walking through your code's logic in markdown."
   ]
  },
  {
   "cell_type": "code",
   "execution_count": 19,
   "metadata": {},
   "outputs": [
    {
     "name": "stdout",
     "output_type": "stream",
     "text": [
      "[1, 2, 'Fizz', 4, 'Buzz', 'Fizz', 7, 8, 'Fizz', 'Buzz', 11, 'Fizz', 13, 14, 'FizzBuzz', 16, 17, 'Fizz', 19, 'Buzz', 'Fizz', 22, 23, 'Fizz', 'Buzz', 26, 'Fizz', 28, 29, 'FizzBuzz', 31, 32, 'Fizz', 34, 'Buzz', 'Fizz', 37, 38, 'Fizz', 'Buzz', 41, 'Fizz', 43, 44, 'FizzBuzz', 46, 47, 'Fizz', 49, 'Buzz', 'Fizz', 52, 53, 'Fizz', 'Buzz', 56, 'Fizz', 58, 59, 'FizzBuzz', 61, 62, 'Fizz', 64, 'Buzz', 'Fizz', 67, 68, 'Fizz', 'Buzz', 71, 'Fizz', 73, 74, 'FizzBuzz', 76, 77, 'Fizz', 79, 'Buzz', 'Fizz', 82, 83, 'Fizz', 'Buzz', 86, 'Fizz', 88, 89, 'FizzBuzz', 91, 92, 'Fizz', 94, 'Buzz', 'Fizz', 97, 98, 'Fizz', 'Buzz']\n"
     ]
    }
   ],
   "source": [
    "fizzbuzz_list = []\n",
    "for number in range(1,101):\n",
    "    if number % 3 == 0 and number % 5 == 0:\n",
    "        fizzbuzz_list.append(\"FizzBuzz\")\n",
    "    elif number % 3 == 0:\n",
    "        fizzbuzz_list.append(\"Fizz\")\n",
    "    elif number % 5 == 0:\n",
    "        fizzbuzz_list.append(\"Buzz\")\n",
    "    else: \n",
    "        fizzbuzz_list.append(number)\n",
    "print(fizzbuzz_list)"
   ]
  },
  {
   "cell_type": "markdown",
   "metadata": {},
   "source": [
    "I start with an empty list, into which I plan to add in either \"Fizz\", \"Buzz\", or \"FizzBuzz\" based on the predetermined rule of this exercise. Within the range of numbers from 1 through 100, I wrote three IF statements. The first if statement I use is for multiples of both 3 and 5. I put this first to avoid these numbers being printed as \"Fizz\" or \"Buzz\", and to ensure they are printed as \"FizzBuzz\". For the remainder of numbers that are not factors of 15, I use ELIF to add them to the list as \"Fizz\" or \"Buzz\". For the remainder of the numbers that are not factors of 15, 3 or 5, I utiliized ELSE to add them to the list as the numbers the way they are. \n",
    "\n",
    "Once the for loop is complete, the list is completed in accordance with this question's rules. I print the list.  "
   ]
  },
  {
   "cell_type": "code",
   "execution_count": null,
   "metadata": {},
   "outputs": [],
   "source": []
  },
  {
   "cell_type": "code",
   "execution_count": null,
   "metadata": {},
   "outputs": [],
   "source": []
  },
  {
   "cell_type": "code",
   "execution_count": null,
   "metadata": {},
   "outputs": [],
   "source": []
  },
  {
   "cell_type": "code",
   "execution_count": null,
   "metadata": {},
   "outputs": [],
   "source": []
  },
  {
   "cell_type": "code",
   "execution_count": null,
   "metadata": {},
   "outputs": [],
   "source": []
  }
 ],
 "metadata": {
  "anaconda-cloud": {},
  "kernelspec": {
   "display_name": "Python 3",
   "language": "python",
   "name": "python3"
  },
  "language_info": {
   "codemirror_mode": {
    "name": "ipython",
    "version": 3
   },
   "file_extension": ".py",
   "mimetype": "text/x-python",
   "name": "python",
   "nbconvert_exporter": "python",
   "pygments_lexer": "ipython3",
   "version": "3.6.5"
  }
 },
 "nbformat": 4,
 "nbformat_minor": 2
}
